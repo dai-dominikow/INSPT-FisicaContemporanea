{
  "nbformat": 4,
  "nbformat_minor": 0,
  "metadata": {
    "colab": {
      "name": "Millikan FC1 2022.ipynb",
      "provenance": []
    },
    "kernelspec": {
      "name": "python3",
      "display_name": "Python 3"
    },
    "language_info": {
      "name": "python"
    }
  },
  "cells": [
    {
      "cell_type": "markdown",
      "source": [
        "# Experimento Millikan - Laboratorio de Fisica Contemporanea I\n",
        "Daiana Dominikow - 2022 "
      ],
      "metadata": {
        "id": "ApSYr6PP1k7c"
      }
    },
    {
      "cell_type": "code",
      "execution_count": null,
      "metadata": {
        "id": "K90tFnkIldCI"
      },
      "outputs": [],
      "source": [
        "import pandas as pd\n",
        "import math\n",
        "import matplotlib.pyplot as plt\n",
        "import matplotlib.colors as mcolors\n",
        "import numpy as np\n",
        "import io\n"
      ]
    },
    {
      "cell_type": "code",
      "source": [
        "from google.colab import files\n",
        "\n",
        "millikan_file= files.upload()\n",
        "\n",
        "df = pd.read_csv(io.BytesIO(millikan_file['Millikan Data.csv']),sep=';', decimal=',')\n",
        "\n",
        "print(df)"
      ],
      "metadata": {
        "id": "ZxP7xa74litK"
      },
      "execution_count": null,
      "outputs": []
    },
    {
      "cell_type": "code",
      "source": [
        "# datos\n",
        "eta = 1.859e-5                  # viscosidad del aire, kg.m-1.s-1\n",
        "rho_air = 1.17                  # densidad aire, kg.m-3\n",
        "rho_oil = 885                  # densidad aceice, kg.m-3\n",
        "rhop = rho_oil - rho_air\n",
        "g = 9.80                       # aceleracion\n",
        "d = 1.45e-3                    # recorrido de la bolita\n",
        "e = 1.6e-19                    # carga del electron\n",
        "dp= 6.36e-3\n",
        "\n",
        "# calculos \n",
        "df['a'] = np.sqrt(9*eta*d/df['t_bajada']/2/rhop/g)\n",
        "\n",
        "df['E'] = df['V']/dp\n",
        "\n",
        "df['q'] = 6 * np.pi * eta * df['a'] * d / df['E'] * (1/df['t_bajada'] + 1/df['t_subida'])\n",
        "\n",
        "df['q/e'] = df['q']/e\n"
      ],
      "metadata": {
        "id": "ZTruV1yNm7Uq"
      },
      "execution_count": null,
      "outputs": []
    },
    {
      "cell_type": "code",
      "source": [
        "df_agg = df.groupby(['gotas ']).agg(radio_gota = ('a','mean'),campo_electrico = ('E','mean'),carga_gota= ('q','mean'),n=('q/e','mean'))\n",
        "\n",
        "display(df_agg)"
      ],
      "metadata": {
        "colab": {
          "base_uri": "https://localhost:8080/",
          "height": 332
        },
        "id": "I_dLArW2m_Gu",
        "outputId": "06e541e4-b235-4401-afd8-dfc4233e59d2"
      },
      "execution_count": null,
      "outputs": [
        {
          "output_type": "display_data",
          "data": {
            "text/plain": [
              "           radio_gota  campo_electrico    carga_gota          n\n",
              "gotas                                                          \n",
              "Augusto  1.239183e-06    117138.364780  1.516915e-18   9.480721\n",
              "Erwin    1.414620e-06     91194.968553  2.572091e-18  16.075569\n",
              "Franco   9.155565e-07    153866.074732  3.457772e-19   2.161107\n",
              "Juan     1.931414e-06     31446.540881  1.401986e-17  87.624135\n",
              "Kari     1.193592e-06    122169.811321  7.039566e-19   4.399729\n",
              "Lean     8.564964e-07     53144.654088  1.671104e-18  10.444403\n",
              "Mica     9.125892e-07    116981.132075  8.397977e-19   5.248736\n",
              "Nati     1.310871e-06     53144.654088  2.849540e-18  17.809624"
            ],
            "text/html": [
              "\n",
              "  <div id=\"df-7b430cee-c3b7-4f51-88b4-41456c191ff1\">\n",
              "    <div class=\"colab-df-container\">\n",
              "      <div>\n",
              "<style scoped>\n",
              "    .dataframe tbody tr th:only-of-type {\n",
              "        vertical-align: middle;\n",
              "    }\n",
              "\n",
              "    .dataframe tbody tr th {\n",
              "        vertical-align: top;\n",
              "    }\n",
              "\n",
              "    .dataframe thead th {\n",
              "        text-align: right;\n",
              "    }\n",
              "</style>\n",
              "<table border=\"1\" class=\"dataframe\">\n",
              "  <thead>\n",
              "    <tr style=\"text-align: right;\">\n",
              "      <th></th>\n",
              "      <th>radio_gota</th>\n",
              "      <th>campo_electrico</th>\n",
              "      <th>carga_gota</th>\n",
              "      <th>n</th>\n",
              "    </tr>\n",
              "    <tr>\n",
              "      <th>gotas</th>\n",
              "      <th></th>\n",
              "      <th></th>\n",
              "      <th></th>\n",
              "      <th></th>\n",
              "    </tr>\n",
              "  </thead>\n",
              "  <tbody>\n",
              "    <tr>\n",
              "      <th>Augusto</th>\n",
              "      <td>1.239183e-06</td>\n",
              "      <td>117138.364780</td>\n",
              "      <td>1.516915e-18</td>\n",
              "      <td>9.480721</td>\n",
              "    </tr>\n",
              "    <tr>\n",
              "      <th>Erwin</th>\n",
              "      <td>1.414620e-06</td>\n",
              "      <td>91194.968553</td>\n",
              "      <td>2.572091e-18</td>\n",
              "      <td>16.075569</td>\n",
              "    </tr>\n",
              "    <tr>\n",
              "      <th>Franco</th>\n",
              "      <td>9.155565e-07</td>\n",
              "      <td>153866.074732</td>\n",
              "      <td>3.457772e-19</td>\n",
              "      <td>2.161107</td>\n",
              "    </tr>\n",
              "    <tr>\n",
              "      <th>Juan</th>\n",
              "      <td>1.931414e-06</td>\n",
              "      <td>31446.540881</td>\n",
              "      <td>1.401986e-17</td>\n",
              "      <td>87.624135</td>\n",
              "    </tr>\n",
              "    <tr>\n",
              "      <th>Kari</th>\n",
              "      <td>1.193592e-06</td>\n",
              "      <td>122169.811321</td>\n",
              "      <td>7.039566e-19</td>\n",
              "      <td>4.399729</td>\n",
              "    </tr>\n",
              "    <tr>\n",
              "      <th>Lean</th>\n",
              "      <td>8.564964e-07</td>\n",
              "      <td>53144.654088</td>\n",
              "      <td>1.671104e-18</td>\n",
              "      <td>10.444403</td>\n",
              "    </tr>\n",
              "    <tr>\n",
              "      <th>Mica</th>\n",
              "      <td>9.125892e-07</td>\n",
              "      <td>116981.132075</td>\n",
              "      <td>8.397977e-19</td>\n",
              "      <td>5.248736</td>\n",
              "    </tr>\n",
              "    <tr>\n",
              "      <th>Nati</th>\n",
              "      <td>1.310871e-06</td>\n",
              "      <td>53144.654088</td>\n",
              "      <td>2.849540e-18</td>\n",
              "      <td>17.809624</td>\n",
              "    </tr>\n",
              "  </tbody>\n",
              "</table>\n",
              "</div>\n",
              "      <button class=\"colab-df-convert\" onclick=\"convertToInteractive('df-7b430cee-c3b7-4f51-88b4-41456c191ff1')\"\n",
              "              title=\"Convert this dataframe to an interactive table.\"\n",
              "              style=\"display:none;\">\n",
              "        \n",
              "  <svg xmlns=\"http://www.w3.org/2000/svg\" height=\"24px\"viewBox=\"0 0 24 24\"\n",
              "       width=\"24px\">\n",
              "    <path d=\"M0 0h24v24H0V0z\" fill=\"none\"/>\n",
              "    <path d=\"M18.56 5.44l.94 2.06.94-2.06 2.06-.94-2.06-.94-.94-2.06-.94 2.06-2.06.94zm-11 1L8.5 8.5l.94-2.06 2.06-.94-2.06-.94L8.5 2.5l-.94 2.06-2.06.94zm10 10l.94 2.06.94-2.06 2.06-.94-2.06-.94-.94-2.06-.94 2.06-2.06.94z\"/><path d=\"M17.41 7.96l-1.37-1.37c-.4-.4-.92-.59-1.43-.59-.52 0-1.04.2-1.43.59L10.3 9.45l-7.72 7.72c-.78.78-.78 2.05 0 2.83L4 21.41c.39.39.9.59 1.41.59.51 0 1.02-.2 1.41-.59l7.78-7.78 2.81-2.81c.8-.78.8-2.07 0-2.86zM5.41 20L4 18.59l7.72-7.72 1.47 1.35L5.41 20z\"/>\n",
              "  </svg>\n",
              "      </button>\n",
              "      \n",
              "  <style>\n",
              "    .colab-df-container {\n",
              "      display:flex;\n",
              "      flex-wrap:wrap;\n",
              "      gap: 12px;\n",
              "    }\n",
              "\n",
              "    .colab-df-convert {\n",
              "      background-color: #E8F0FE;\n",
              "      border: none;\n",
              "      border-radius: 50%;\n",
              "      cursor: pointer;\n",
              "      display: none;\n",
              "      fill: #1967D2;\n",
              "      height: 32px;\n",
              "      padding: 0 0 0 0;\n",
              "      width: 32px;\n",
              "    }\n",
              "\n",
              "    .colab-df-convert:hover {\n",
              "      background-color: #E2EBFA;\n",
              "      box-shadow: 0px 1px 2px rgba(60, 64, 67, 0.3), 0px 1px 3px 1px rgba(60, 64, 67, 0.15);\n",
              "      fill: #174EA6;\n",
              "    }\n",
              "\n",
              "    [theme=dark] .colab-df-convert {\n",
              "      background-color: #3B4455;\n",
              "      fill: #D2E3FC;\n",
              "    }\n",
              "\n",
              "    [theme=dark] .colab-df-convert:hover {\n",
              "      background-color: #434B5C;\n",
              "      box-shadow: 0px 1px 3px 1px rgba(0, 0, 0, 0.15);\n",
              "      filter: drop-shadow(0px 1px 2px rgba(0, 0, 0, 0.3));\n",
              "      fill: #FFFFFF;\n",
              "    }\n",
              "  </style>\n",
              "\n",
              "      <script>\n",
              "        const buttonEl =\n",
              "          document.querySelector('#df-7b430cee-c3b7-4f51-88b4-41456c191ff1 button.colab-df-convert');\n",
              "        buttonEl.style.display =\n",
              "          google.colab.kernel.accessAllowed ? 'block' : 'none';\n",
              "\n",
              "        async function convertToInteractive(key) {\n",
              "          const element = document.querySelector('#df-7b430cee-c3b7-4f51-88b4-41456c191ff1');\n",
              "          const dataTable =\n",
              "            await google.colab.kernel.invokeFunction('convertToInteractive',\n",
              "                                                     [key], {});\n",
              "          if (!dataTable) return;\n",
              "\n",
              "          const docLinkHtml = 'Like what you see? Visit the ' +\n",
              "            '<a target=\"_blank\" href=https://colab.research.google.com/notebooks/data_table.ipynb>data table notebook</a>'\n",
              "            + ' to learn more about interactive tables.';\n",
              "          element.innerHTML = '';\n",
              "          dataTable['output_type'] = 'display_data';\n",
              "          await google.colab.output.renderOutput(dataTable, element);\n",
              "          const docLink = document.createElement('div');\n",
              "          docLink.innerHTML = docLinkHtml;\n",
              "          element.appendChild(docLink);\n",
              "        }\n",
              "      </script>\n",
              "    </div>\n",
              "  </div>\n",
              "  "
            ]
          },
          "metadata": {}
        }
      ]
    },
    {
      "cell_type": "code",
      "source": [
        "print('carga de la gota respecto al radio')\n",
        "\n",
        "df.plot(kind = 'scatter', x = 'a', y = 'q')\n",
        "\n"
      ],
      "metadata": {
        "colab": {
          "base_uri": "https://localhost:8080/",
          "height": 325
        },
        "id": "adXuWlij5Led",
        "outputId": "83d174c7-359b-4354-f204-a8cf9854b01d"
      },
      "execution_count": null,
      "outputs": [
        {
          "output_type": "stream",
          "name": "stdout",
          "text": [
            "carga de la gota respecto al radio\n"
          ]
        },
        {
          "output_type": "execute_result",
          "data": {
            "text/plain": [
              "<matplotlib.axes._subplots.AxesSubplot at 0x7ff997090c90>"
            ]
          },
          "metadata": {},
          "execution_count": 85
        },
        {
          "output_type": "display_data",
          "data": {
            "text/plain": [
              "<Figure size 432x288 with 1 Axes>"
            ],
            "image/png": "[encoded data removed]"
          },
          "metadata": {
            "needs_background": "light"
          }
        }
      ]
    },
    {
      "cell_type": "code",
      "source": [
        "print('electrones??? respecto al radio')\n",
        "\n",
        "df.plot(kind = 'scatter', x = 'a', y = 'q/e', c='r')\n"
      ],
      "metadata": {
        "colab": {
          "base_uri": "https://localhost:8080/",
          "height": 317
        },
        "id": "dQwh7OFi-3YL",
        "outputId": "93b01f1a-5285-4d6b-9920-f6bcffdc7d43"
      },
      "execution_count": null,
      "outputs": [
        {
          "output_type": "stream",
          "name": "stdout",
          "text": [
            "electrones??? respecto al radio\n"
          ]
        },
        {
          "output_type": "execute_result",
          "data": {
            "text/plain": [
              "<matplotlib.axes._subplots.AxesSubplot at 0x7ff997008c50>"
            ]
          },
          "metadata": {},
          "execution_count": 86
        },
        {
          "output_type": "display_data",
          "data": {
            "text/plain": [
              "<Figure size 432x288 with 1 Axes>"
            ],
            "image/png": "[encoded data removed]"
          },
          "metadata": {
            "needs_background": "light"
          }
        }
      ]
    }
  ]
}